{
 "cells": [
  {
   "cell_type": "code",
   "execution_count": 1,
   "metadata": {},
   "outputs": [],
   "source": [
    "# import relevant libraries\n",
    "import pandas as pd\n",
    "import numpy as np\n",
    "import os"
   ]
  },
  {
   "cell_type": "code",
   "execution_count": 2,
   "metadata": {},
   "outputs": [
    {
     "data": {
      "text/html": [
       "<div>\n",
       "<style scoped>\n",
       "    .dataframe tbody tr th:only-of-type {\n",
       "        vertical-align: middle;\n",
       "    }\n",
       "\n",
       "    .dataframe tbody tr th {\n",
       "        vertical-align: top;\n",
       "    }\n",
       "\n",
       "    .dataframe thead th {\n",
       "        text-align: right;\n",
       "    }\n",
       "</style>\n",
       "<table border=\"1\" class=\"dataframe\">\n",
       "  <thead>\n",
       "    <tr style=\"text-align: right;\">\n",
       "      <th></th>\n",
       "      <th>image</th>\n",
       "      <th>bad_lab</th>\n",
       "    </tr>\n",
       "  </thead>\n",
       "  <tbody>\n",
       "    <tr>\n",
       "      <th>0</th>\n",
       "      <td>cate10-00115</td>\n",
       "      <td>14</td>\n",
       "    </tr>\n",
       "    <tr>\n",
       "      <th>1</th>\n",
       "      <td>cate10-00114</td>\n",
       "      <td>29</td>\n",
       "    </tr>\n",
       "    <tr>\n",
       "      <th>2</th>\n",
       "      <td>cate10-00114</td>\n",
       "      <td>30</td>\n",
       "    </tr>\n",
       "    <tr>\n",
       "      <th>3</th>\n",
       "      <td>cate10-00114</td>\n",
       "      <td>31</td>\n",
       "    </tr>\n",
       "    <tr>\n",
       "      <th>4</th>\n",
       "      <td>cate10-00114</td>\n",
       "      <td>32</td>\n",
       "    </tr>\n",
       "  </tbody>\n",
       "</table>\n",
       "</div>"
      ],
      "text/plain": [
       "          image bad_lab\n",
       "0  cate10-00115      14\n",
       "1  cate10-00114      29\n",
       "2  cate10-00114      30\n",
       "3  cate10-00114      31\n",
       "4  cate10-00114      32"
      ]
     },
     "execution_count": 2,
     "metadata": {},
     "output_type": "execute_result"
    }
   ],
   "source": [
    "# create df of bad bounding boxes\n",
    "bad_labs = pd.read_csv('Bounding Box Analysis.csv', header=0, names=['image', 'bad_lab'])\n",
    "bad_labs.head()"
   ]
  },
  {
   "cell_type": "code",
   "execution_count": 32,
   "metadata": {},
   "outputs": [],
   "source": [
    "files = os.listdir('dirty_labels')\n",
    "\n",
    "for file in files:\n",
    "    # create df of bounding boxes\n",
    "    label_file = pd.read_csv('dirty_labels/' + file, header=None, sep=' ', dtype=float, \n",
    "                           names=['label_num','x_center','y_center','width','height'])\n",
    "    # remove bad bounding box if there is one\n",
    "    for index, row in bad_labs.iterrows():\n",
    "        if row['image'] == file.split('.txt')[0]:\n",
    "            try:\n",
    "                label_file = label_file[label_file.label_num != float(row['bad_lab'])]\n",
    "            except:\n",
    "                continue\n",
    "    # save bounding box file to new folder\n",
    "    filename = 'C:/Users/dental-1/Documents/dent_seg/bounding box labels/' + file\n",
    "    label_file.to_csv(filename, index=False, header=False, sep=' ')"
   ]
  }
 ],
 "metadata": {
  "kernelspec": {
   "display_name": "Python 3 (ipykernel)",
   "language": "python",
   "name": "python3"
  },
  "language_info": {
   "codemirror_mode": {
    "name": "ipython",
    "version": 3
   },
   "file_extension": ".py",
   "mimetype": "text/x-python",
   "name": "python",
   "nbconvert_exporter": "python",
   "pygments_lexer": "ipython3",
   "version": "3.8.11"
  }
 },
 "nbformat": 4,
 "nbformat_minor": 4
}
