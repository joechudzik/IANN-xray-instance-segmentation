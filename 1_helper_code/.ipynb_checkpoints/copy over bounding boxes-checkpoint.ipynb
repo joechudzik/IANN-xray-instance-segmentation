{
 "cells": [
  {
   "cell_type": "code",
   "execution_count": 1,
   "id": "2b58feb1",
   "metadata": {},
   "outputs": [],
   "source": [
    "import os\n",
    "import pandas as pd\n",
    "import shutil"
   ]
  },
  {
   "cell_type": "code",
   "execution_count": 2,
   "id": "1e9033ee",
   "metadata": {},
   "outputs": [],
   "source": [
    "bounding_boxes = os.listdir('C:/Users/dental-1/Documents/dent_seg/4_train_yolo_initial_tooth_segmentation/bounding_boxes')"
   ]
  },
  {
   "cell_type": "code",
   "execution_count": 3,
   "id": "256d824e",
   "metadata": {},
   "outputs": [],
   "source": [
    "for bb in bounding_boxes:\n",
    "    if 'txt' not in bb:\n",
    "        bounding_boxes.remove(bb) "
   ]
  },
  {
   "cell_type": "code",
   "execution_count": 4,
   "id": "99b2e71c",
   "metadata": {},
   "outputs": [],
   "source": [
    "for bb in bounding_boxes:\n",
    "    source = 'C:/Users/dental-1/Documents/dent_seg/4_train_yolo_initial_tooth_segmentation/bounding_boxes/' + bb\n",
    "    destination = 'C:/Users/dental-1/Documents/dent_seg/5_train_yolo_final_tooth_segmentation/bounding_boxes/' + bb\n",
    "    shutil.copy(source, destination)"
   ]
  },
  {
   "cell_type": "code",
   "execution_count": null,
   "id": "833395f2",
   "metadata": {},
   "outputs": [],
   "source": []
  }
 ],
 "metadata": {
  "kernelspec": {
   "display_name": "Python 3 (ipykernel)",
   "language": "python",
   "name": "python3"
  },
  "language_info": {
   "codemirror_mode": {
    "name": "ipython",
    "version": 3
   },
   "file_extension": ".py",
   "mimetype": "text/x-python",
   "name": "python",
   "nbconvert_exporter": "python",
   "pygments_lexer": "ipython3",
   "version": "3.8.11"
  }
 },
 "nbformat": 4,
 "nbformat_minor": 5
}
