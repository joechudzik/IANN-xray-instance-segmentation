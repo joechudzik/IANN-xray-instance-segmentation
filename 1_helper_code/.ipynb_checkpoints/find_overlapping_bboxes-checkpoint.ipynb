{
 "cells": [
  {
   "cell_type": "code",
   "execution_count": 1,
   "id": "3758ae0c",
   "metadata": {},
   "outputs": [],
   "source": [
    "import pandas as pd\n",
    "import os\n",
    "import numpy as np\n",
    "import cv2"
   ]
  },
  {
   "cell_type": "code",
   "execution_count": 2,
   "id": "8fe878b4",
   "metadata": {},
   "outputs": [
    {
     "data": {
      "text/plain": [
       "['.ipynb_checkpoints',\n",
       " '1.2.840.114257.3.6.10192418336062410458658248025036302706828.txt',\n",
       " '1.2.840.114257.3.6.11055819104460780458708239396865319560246.txt',\n",
       " '1.2.840.114257.3.6.11138722032378900458316859183840966532948.txt',\n",
       " '1.2.840.114257.3.6.12042049152119560458444737105596265846298.txt',\n",
       " '1.2.840.114257.3.6.12595245520484250458505374370603163017026.txt',\n",
       " '1.2.840.114257.3.6.13102657968189810458757935017254282507316.txt',\n",
       " '1.2.840.114257.3.6.13634156640180310458512983137510508061384.txt',\n",
       " '1.2.840.114257.3.6.14615365120465950458433559055920593001267.txt',\n",
       " '1.2.840.114257.3.6.14998661280157100458618467118181913008571.txt',\n",
       " '1.2.840.114257.3.6.15822504704007780458506751264560752133293.txt',\n",
       " '1.2.840.114257.3.6.20006703152153070458639320557576431221217.txt',\n",
       " '1.2.840.114257.3.6.20562630064503300458708209095201676429088.txt',\n",
       " 'images']"
      ]
     },
     "execution_count": 2,
     "metadata": {},
     "output_type": "execute_result"
    }
   ],
   "source": [
    "bounding_boxes = os.listdir('C:\\\\Users\\\\fenwi\\\\Desktop\\\\Python Code\\\\Capstone\\\\bad bounding box GLDP\\\\bad bounding boxes')\n",
    "bounding_boxes"
   ]
  },
  {
   "cell_type": "code",
   "execution_count": null,
   "id": "78fdbb23",
   "metadata": {},
   "outputs": [],
   "source": [
    "for bb in bounding_boxes:\n",
    "    if 'txt' in bb:\n",
    "        filename = 'C:\\\\Users\\\\fenwi\\\\Desktop\\\\Python Code\\\\Capstone\\\\bad bounding box GLDP\\\\bad bounding boxes\\\\' + bb\n",
    "        # get df\n",
    "        df = pd.read_csv(filename, sep=' ', header=None)\n",
    "        df.rename(columns={0: 'class', 1: 'x_center', 2: 'y_center', 3: 'height', 4: 'width', 5: 'confidence'}, inplace=True)\n",
    "        df.drop(columns=['confidence'], inplace=True)\n",
    "        # get top/bottom\n",
    "        average_y = df['y_center'].mean()\n",
    "        df['top/bottom'] = np.where(df.y_center < average_y, 'top', 'bottom')\n",
    "        # sort teeth\n",
    "        df.sort_values(by=['top/bottom', 'x_center'], inplace=True)\n",
    "        # drop top/bottom column\n",
    "        df.drop(columns=['top/bottom'], inplace=True)\n",
    "        df.to_csv(filename, index=False, header=False, sep=' ')"
   ]
  },
  {
   "cell_type": "code",
   "execution_count": null,
   "id": "1b7ac7e5",
   "metadata": {},
   "outputs": [],
   "source": [
    "\n",
    "\n",
    "\n",
    "\n",
    "    for index, row in bounding_box_df.iterrows():\n",
    "        # set x and y values\n",
    "        x1 = bounding_box_df.iloc[0]['xmin']\n",
    "        y1 = bounding_box_df.iloc[0]['ymin']\n",
    "        x2 = bounding_box_df.iloc[0]['xmax']\n",
    "        y2 = bounding_box_df.iloc[0]['ymax']\n",
    "        # draw rectangle on image\n",
    "        cv2.rectangle(image, (int(x1), int(y1)), (int(x2), int(y2)), color=[255,0,0], thickness=3)"
   ]
  },
  {
   "cell_type": "code",
   "execution_count": null,
   "id": "63debfe0",
   "metadata": {},
   "outputs": [],
   "source": [
    "df.head()"
   ]
  },
  {
   "cell_type": "code",
   "execution_count": 3,
   "id": "54f311b2",
   "metadata": {},
   "outputs": [],
   "source": [
    "img = '1.2.840.114257.3.6.11055819104460780458708239396865319560246'\n",
    "\n",
    "filename = 'C:\\\\Users\\\\fenwi\\\\Desktop\\\\Python Code\\\\Capstone\\\\bad bounding box GLDP\\\\bad bounding boxes\\\\' + img + '.txt'\n",
    "df = pd.read_csv(filename, sep=' ', header=None)\n",
    "\n",
    "x1 = df.iloc[0][1] - (df.iloc[0][3]/2)\n",
    "y1 = df.iloc[0][2] - (df.iloc[0][4]/2)\n",
    "x2 = df.iloc[0][1] + (df.iloc[0][3]/2)\n",
    "y2 = df.iloc[0][2] + (df.iloc[0][4]/2)\n",
    "\n",
    "image = cv2.imread('C:\\\\Users\\\\fenwi\\\\Desktop\\\\Python Code\\\\Capstone\\\\bad bounding box GLDP\\\\bad bounding boxes\\\\images\\\\' + img + '.png')\n",
    "cv2.rectangle(image, (int(x1), int(y1)), (int(x2), int(y2)), color=[0,0,255], thickness=5)\n",
    "\n",
    "cv2.namedWindow(\"output\", cv2.WINDOW_NORMAL)\n",
    "imS = cv2.resize(image, (5000, 800)) \n",
    "cv2.imshow('output', imS)\n",
    "cv2.waitKey(0) \n",
    "cv2.destroyAllWindows() "
   ]
  },
  {
   "cell_type": "code",
   "execution_count": null,
   "id": "ee9efa94",
   "metadata": {},
   "outputs": [],
   "source": []
  },
  {
   "cell_type": "code",
   "execution_count": null,
   "id": "e8c9a4e3",
   "metadata": {},
   "outputs": [],
   "source": []
  },
  {
   "cell_type": "code",
   "execution_count": null,
   "id": "5d4be44b",
   "metadata": {},
   "outputs": [],
   "source": []
  }
 ],
 "metadata": {
  "kernelspec": {
   "display_name": "Python 3",
   "language": "python",
   "name": "python3"
  },
  "language_info": {
   "codemirror_mode": {
    "name": "ipython",
    "version": 3
   },
   "file_extension": ".py",
   "mimetype": "text/x-python",
   "name": "python",
   "nbconvert_exporter": "python",
   "pygments_lexer": "ipython3",
   "version": "3.8.10"
  }
 },
 "nbformat": 4,
 "nbformat_minor": 5
}
