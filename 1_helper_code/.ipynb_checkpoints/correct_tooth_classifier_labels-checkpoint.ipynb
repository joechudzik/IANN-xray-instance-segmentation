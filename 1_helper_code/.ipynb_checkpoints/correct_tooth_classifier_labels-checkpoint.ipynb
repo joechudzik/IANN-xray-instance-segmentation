{
 "cells": [
  {
   "cell_type": "code",
   "execution_count": null,
   "id": "e7bc58f1",
   "metadata": {},
   "outputs": [],
   "source": [
    "# #\n",
    "# # some of the label files either have classes labeled 1-4 (should be 0-3), or a greater number of classes than 4\n",
    "# # this code is meant to remove the label files with more than 4 classes, and align label files with classes 1-4 to\n",
    "# # 0-3\n",
    "# # **if running this code, make sure to entirely comment out the following \n",
    "# # \n",
    "\n",
    "\n",
    "# tpath = path + '5_train_yolo_four_class_tooth_segmentation/bounding_boxes/'\n",
    "# new_tpath = path + '5_train_yolo_four_class_tooth_segmentation/bounding_boxes2-joe/'\n",
    "\n",
    "# btest = os.listdir('C:/Users/dental-1/Documents/dent_seg/5_train_yolo_four_class_tooth_segmentation/bounding_boxes')[1:]\n",
    "\n",
    "# for b in btest:\n",
    "#     dat = pd.read_csv(tpath+b, sep=' ', header=None)\n",
    "#     dat.columns=['class','xcenter','ycenter','width','height']\n",
    "#     if max(dat['class']) <= 4:\n",
    "#         if max(dat['class']) == 4:\n",
    "#             dat['class'] = dat['class']-1\n",
    "\n",
    "#         dat.to_csv(new_tpath+b, header=None, index=None, sep=' ')\n",
    "        \n",
    "        \n",
    "# # populate folders\n",
    "# bounding_boxes = os.listdir('C:/Users/dental-1/Documents/dent_seg/5_train_yolo_four_class_tooth_segmentation/bounding_boxes2-joe')\n",
    "\n",
    "# if len(os.listdir('C:/Users/dental-1/Documents/dent_seg/5_train_yolo_four_class_tooth_segmentation/data/images/test')) <= 1:\n",
    "#     setup_data(bounding_boxes)"
   ]
  }
 ],
 "metadata": {
  "kernelspec": {
   "display_name": "Python 3 (ipykernel)",
   "language": "python",
   "name": "python3"
  },
  "language_info": {
   "codemirror_mode": {
    "name": "ipython",
    "version": 3
   },
   "file_extension": ".py",
   "mimetype": "text/x-python",
   "name": "python",
   "nbconvert_exporter": "python",
   "pygments_lexer": "ipython3",
   "version": "3.8.11"
  }
 },
 "nbformat": 4,
 "nbformat_minor": 5
}
