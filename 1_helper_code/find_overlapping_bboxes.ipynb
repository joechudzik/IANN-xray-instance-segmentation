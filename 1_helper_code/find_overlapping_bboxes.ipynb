{
 "cells": [
  {
   "cell_type": "code",
   "execution_count": 1,
   "id": "3758ae0c",
   "metadata": {},
   "outputs": [],
   "source": [
    "import pandas as pd\n",
    "import os\n",
    "import numpy as np\n",
    "import cv2"
   ]
  },
  {
   "cell_type": "code",
   "execution_count": 2,
   "id": "1896d2fd",
   "metadata": {},
   "outputs": [],
   "source": [
    "class4_bbox_path = 'C:\\\\Users\\\\dental-1\\\\Documents\\\\dent_seg\\\\8_train_yolo_four_class_tooth_segmentation\\\\'+\\\n",
    "                    'yolov5\\\\runs\\\\detect\\\\exp2\\\\labels'"
   ]
  },
  {
   "cell_type": "code",
   "execution_count": 3,
   "id": "6960d25e",
   "metadata": {},
   "outputs": [],
   "source": [
    "file_save_path = 'C:\\\\Users\\\\dental-1\\\\dent_seg\\\\1_helper_code\\\\overlapping1\\\\'\n",
    "\n",
    "BBOX_PATH = class4_bbox_path"
   ]
  },
  {
   "cell_type": "code",
   "execution_count": 4,
   "id": "badcdbe4",
   "metadata": {},
   "outputs": [
    {
     "data": {
      "text/plain": [
       "['.ipynb_checkpoints',\n",
       " '1.2.840.114257.1.1637304243952960394983328788351918369.txt',\n",
       " '1.2.840.114257.3.6.10028842080465500458430592052923973032886.txt',\n",
       " '1.2.840.114257.3.6.10030708032351340458422440040212943937371.txt',\n",
       " '1.2.840.114257.3.6.10042008176214120458429902067895443955409.txt']"
      ]
     },
     "execution_count": 4,
     "metadata": {},
     "output_type": "execute_result"
    }
   ],
   "source": [
    "bounding_boxes = os.listdir(BBOX_PATH)\n",
    "bounding_boxes[:5]"
   ]
  },
  {
   "cell_type": "code",
   "execution_count": 5,
   "id": "15f037e6",
   "metadata": {},
   "outputs": [
    {
     "data": {
      "text/plain": [
       "1072"
      ]
     },
     "execution_count": 5,
     "metadata": {},
     "output_type": "execute_result"
    }
   ],
   "source": [
    "bad_path = 'C:\\\\Users\\\\dental-1\\\\dent_seg\\\\1_helper_code\\\\overlapping_bboxes'\n",
    "bad_bbox = os.listdir('overlapping_bboxes')\n",
    "\n",
    "len(bad_bbox)"
   ]
  },
  {
   "cell_type": "markdown",
   "id": "f99e5d6f",
   "metadata": {},
   "source": [
    "takes all detected labels from 4 class model and if the label file is not in overlapping_bboxes/, then save it to good_bboxes/"
   ]
  },
  {
   "cell_type": "code",
   "execution_count": 28,
   "id": "9ca45304",
   "metadata": {},
   "outputs": [
    {
     "data": {
      "text/plain": [
       "'C:\\\\Users\\\\dental-1\\\\Documents\\\\dent_seg\\\\1_helper_code'"
      ]
     },
     "execution_count": 28,
     "metadata": {},
     "output_type": "execute_result"
    }
   ],
   "source": [
    "pwd"
   ]
  },
  {
   "cell_type": "code",
   "execution_count": 8,
   "id": "45e4ae73",
   "metadata": {},
   "outputs": [],
   "source": [
    "for bb in bounding_boxes:\n",
    "    if 'txt' in bb and bb not in bad_bbox:\n",
    "        filename = BBOX_PATH+'\\\\' + bb\n",
    "        df = pd.read_csv(filename, sep=' ', header=None)\n",
    "        bad_df_to_write.to_csv('good_bboxes\\\\'+bb, index=False, header=False, sep=' ')"
   ]
  },
  {
   "cell_type": "code",
   "execution_count": 7,
   "id": "2c23c9a8",
   "metadata": {
    "scrolled": false
   },
   "outputs": [
    {
     "name": "stdout",
     "output_type": "stream",
     "text": [
      "len data: 2287\n",
      "proportion of images having at least 1 bad/closely overlapping bounding box: 0.5360734586794927\n"
     ]
    }
   ],
   "source": [
    "counter = []\n",
    "for bb in bounding_boxes:\n",
    "    if 'txt' in bb: #and bb not in bad_bbox:\n",
    "        filename = BBOX_PATH+'\\\\' + bb\n",
    "        # get df\n",
    "        df = pd.read_csv(filename, sep=' ', header=None)\n",
    "        df.rename(columns={0: 'class', 1: 'x_center', 2: 'y_center', 3: 'height', 4: 'width', 5: 'confidence'}, inplace=True)\n",
    "        df.drop(columns=['confidence'], inplace=True)\n",
    "        # get top/bottom\n",
    "        average_y = df['y_center'].mean()\n",
    "        df['top/bottom'] = np.where(df.y_center < average_y, 'top', 'bottom')\n",
    "        # sort teeth\n",
    "        df.sort_values(by=['top/bottom', 'x_center'], inplace=True)\n",
    "        # drop top/bottom column\n",
    "        df.drop(columns=['top/bottom'], inplace=True)\n",
    "\n",
    "        \n",
    "        bad_df_arr = []\n",
    "        count = 0\n",
    "        THRESH = 0.005\n",
    "        # if (previous and current values are <= 0.005 difference or equal to each other) and \n",
    "        #     (class labels are the same): save\n",
    "        # uncomment df.to_csv at bottom to save\n",
    "        for idx in range(1,len(df)):\n",
    "            if (df['class'].iloc[idx-1]!=df['class'].iloc[idx]):\n",
    "                if ((abs(df['x_center'].iloc[idx-1] - df['x_center'].iloc[idx])<=THRESH or df['x_center'].iloc[idx-1]==df['x_center'].iloc[idx]) and\n",
    "                (abs(df['y_center'].iloc[idx-1] - df['y_center'].iloc[idx])<=THRESH or df['y_center'].iloc[idx-1]==df['y_center'].iloc[idx]) and\n",
    "                (abs(df['width'].iloc[idx-1] - df['width'].iloc[idx])<=THRESH or df['width'].iloc[idx-1]==df['width'].iloc[idx]) and\n",
    "                (abs(df['height'].iloc[idx-1] - df['height'].iloc[idx])<=THRESH or df['height'].iloc[idx-1]==df['height'].iloc[idx])):\n",
    "                    #counter += 1\n",
    "                    dat0 = {'class' : df['class'].iloc[idx-1],\n",
    "                           'x_center' : df['x_center'].iloc[idx-1],\n",
    "                           'y_center' : df['y_center'].iloc[idx-1],\n",
    "                           'height' : df['height'].iloc[idx-1],\n",
    "                           'width' : df['width'].iloc[idx-1]}\n",
    "                    dat1 = {'class' : df['class'].iloc[idx],\n",
    "                           'x_center' : df['x_center'].iloc[idx],\n",
    "                           'y_center' : df['y_center'].iloc[idx],\n",
    "                           'height' : df['height'].iloc[idx],\n",
    "                           'width' : df['width'].iloc[idx]}\n",
    "                    bad_df_arr.append(dat0)\n",
    "                    bad_df_arr.append(dat1)\n",
    "                    count+=1\n",
    "        #print(count)\n",
    "        if count > 0:\n",
    "            #print(count)\n",
    "            bad_df_to_write = pd.DataFrame(bad_df_arr)\n",
    "            save_name = file_save_path + bb\n",
    "            bad_df_to_write.to_csv('overlapping1\\\\'+bb, index=False, header=False, sep=' ')\n",
    "        counter.append(count)\n",
    "        \n",
    "print('len data: '+str(len(counter)))\n",
    "avg_bad = len([x for x in counter if x > 0])/len(counter)\n",
    "print('proportion of images having at least 1 bad/closely overlapping bounding box: '+str(avg_bad))"
   ]
  },
  {
   "cell_type": "code",
   "execution_count": null,
   "id": "c0a72aa1",
   "metadata": {},
   "outputs": [],
   "source": []
  },
  {
   "cell_type": "code",
   "execution_count": null,
   "id": "9e1317c7",
   "metadata": {},
   "outputs": [],
   "source": []
  },
  {
   "cell_type": "code",
   "execution_count": 24,
   "id": "cbf20a39",
   "metadata": {},
   "outputs": [
    {
     "data": {
      "text/plain": [
       "0.40342960288808666"
      ]
     },
     "execution_count": 24,
     "metadata": {},
     "output_type": "execute_result"
    }
   ],
   "source": [
    "# 3 class detections- 40% of images have at least 1 bad/closely overlapping bounding box\n",
    "len([x for x in counter if x > 0]) / len(counter)"
   ]
  },
  {
   "cell_type": "code",
   "execution_count": 25,
   "id": "aa3fb4af",
   "metadata": {},
   "outputs": [
    {
     "data": {
      "text/plain": [
       "2216"
      ]
     },
     "execution_count": 25,
     "metadata": {},
     "output_type": "execute_result"
    }
   ],
   "source": [
    "len(counter)"
   ]
  },
  {
   "cell_type": "code",
   "execution_count": 11,
   "id": "45ac3686",
   "metadata": {},
   "outputs": [
    {
     "data": {
      "text/plain": [
       "0.5362762237762237"
      ]
     },
     "execution_count": 11,
     "metadata": {},
     "output_type": "execute_result"
    }
   ],
   "source": [
    "# 4 class detections- 53% of images have at least 1 bad/closely overlapping bounding box\n",
    "len([x for x in counter if x > 0]) / len(counter)"
   ]
  },
  {
   "cell_type": "code",
   "execution_count": 7,
   "id": "8c97dfe6",
   "metadata": {},
   "outputs": [
    {
     "data": {
      "text/plain": [
       "2288"
      ]
     },
     "execution_count": 7,
     "metadata": {},
     "output_type": "execute_result"
    }
   ],
   "source": [
    "len(counter)"
   ]
  }
 ],
 "metadata": {
  "kernelspec": {
   "display_name": "Python 3",
   "language": "python",
   "name": "python3"
  },
  "language_info": {
   "codemirror_mode": {
    "name": "ipython",
    "version": 3
   },
   "file_extension": ".py",
   "mimetype": "text/x-python",
   "name": "python",
   "nbconvert_exporter": "python",
   "pygments_lexer": "ipython3",
   "version": "3.8.10"
  }
 },
 "nbformat": 4,
 "nbformat_minor": 5
}
