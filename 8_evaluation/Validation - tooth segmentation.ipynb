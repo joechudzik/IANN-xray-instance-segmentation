{
 "cells": [
  {
   "cell_type": "markdown",
   "id": "d1e35ef1",
   "metadata": {},
   "source": [
    "## Set up notebook"
   ]
  },
  {
   "cell_type": "code",
   "execution_count": 1,
   "id": "07b1d84f",
   "metadata": {},
   "outputs": [],
   "source": [
    "# import relevant libraries\n",
    "from IPython.display import Image\n",
    "import pandas as pd\n",
    "import random\n",
    "import os\n",
    "import glob\n",
    "import shutil\n",
    "from scipy import ndimage\n",
    "import matplotlib.pyplot as plt\n",
    "import imageio\n",
    "import json\n",
    "import numpy as np\n",
    "import cv2"
   ]
  },
  {
   "cell_type": "code",
   "execution_count": null,
   "id": "ca51a564",
   "metadata": {},
   "outputs": [],
   "source": [
    "# prepare data directory structure for Yolo\n",
    "path = 'C:/Users/dental-1/Documents/dent_seg/8_evaluation/data/'\n",
    "category = 'cate10'\n",
    "\n",
    "if os.path.exists(path + category + '/') == False:\n",
    "    os.mkdir(path + category + '/')\n",
    "    os.mkdir(path + category + '/images/')\n",
    "    os.mkdir(path + category + '/images/test')\n",
    "    os.mkdir(path + category + '/images/train')\n",
    "    os.mkdir(path + category + '/images/valid/')\n",
    "    os.mkdir(path + category + '/labels/')\n",
    "    os.mkdir(path + category + '/labels/test')\n",
    "    os.mkdir(path + category + '/labels/train')\n",
    "    os.mkdir(path + category + '/labels/valid/')"
   ]
  },
  {
   "cell_type": "code",
   "execution_count": 13,
   "id": "51ec7a51",
   "metadata": {},
   "outputs": [],
   "source": [
    "# # copy the labels over\n",
    "# bounding_boxes = os.listdir('C:\\\\Users\\\\dental-1\\\\Documents\\\\dent_seg\\\\5_train_yolo_tooth_segmentation\\\\bounding_boxes\\\\')\n",
    "\n",
    "# # remove non label files\n",
    "# for bb in bounding_boxes:\n",
    "#     if 'txt' not in bb:\n",
    "#         bounding_boxes.remove(bb)\n",
    "        \n",
    "# # remove non category files\n",
    "# cate_bounding_boxes = []\n",
    "\n",
    "# for bb in bounding_boxes:\n",
    "#     if 'cate4-' in bb:\n",
    "#         cate_bounding_boxes.append(bb)\n",
    "        \n",
    "# # copy over       \n",
    "# for bb in cate_bounding_boxes:\n",
    "#     source = 'C:\\\\Users\\\\dental-1\\\\Documents\\\\dent_seg\\\\5_train_yolo_tooth_segmentation\\\\bounding_boxes\\\\' + bb\n",
    "    \n",
    "#     destination = 'C:\\\\Users\\\\dental-1\\\\Documents\\\\dent_seg\\\\8_evaluation\\\\data\\\\cate4\\\\labels\\\\valid\\\\' + bb\n",
    "#     shutil.copy(source, destination)\n",
    "    \n",
    "#     destination = 'C:\\\\Users\\\\dental-1\\\\Documents\\\\dent_seg\\\\8_evaluation\\\\data\\\\cate4\\\\labels\\\\train\\\\' + bb\n",
    "#     shutil.copy(source, destination)\n",
    "    \n",
    "#     destination = 'C:\\\\Users\\\\dental-1\\\\Documents\\\\dent_seg\\\\8_evaluation\\\\data\\\\cate4\\\\labels\\\\test\\\\' + bb\n",
    "#     shutil.copy(source, destination)"
   ]
  },
  {
   "cell_type": "code",
   "execution_count": 21,
   "id": "419e4240",
   "metadata": {},
   "outputs": [],
   "source": [
    "# # copy the images over\n",
    "# images = os.listdir('C:\\\\Users\\\\dental-1\\\\Documents\\\\dent_seg\\\\2_dental_images\\\\raw_images\\\\')\n",
    "\n",
    "# # remove non label files\n",
    "# for bb in images:\n",
    "#     if 'jpg' not in bb:\n",
    "#         images.remove(bb)\n",
    "        \n",
    "# # remove non category files\n",
    "# cate_images = []\n",
    "\n",
    "# for bb in images:\n",
    "#     if 'cate10-' in bb:\n",
    "#         cate_images.append(bb)\n",
    "        \n",
    "# # copy over       \n",
    "# for bb in cate_images:\n",
    "#     source = 'C:\\\\Users\\\\dental-1\\\\Documents\\\\dent_seg\\\\2_dental_images\\\\raw_images\\\\' + bb\n",
    "    \n",
    "#     destination = 'C:\\\\Users\\\\dental-1\\\\Documents\\\\dent_seg\\\\8_evaluation\\\\data\\\\cate10\\\\images\\\\valid\\\\' + bb\n",
    "#     shutil.copy(source, destination)\n",
    "    \n",
    "#     destination = 'C:\\\\Users\\\\dental-1\\\\Documents\\\\dent_seg\\\\8_evaluation\\\\data\\\\cate10\\\\images\\\\train\\\\' + bb\n",
    "#     shutil.copy(source, destination)\n",
    "    \n",
    "#     destination = 'C:\\\\Users\\\\dental-1\\\\Documents\\\\dent_seg\\\\8_evaluation\\\\data\\\\cate10\\\\images\\\\test\\\\' + bb\n",
    "#     shutil.copy(source, destination)"
   ]
  },
  {
   "cell_type": "code",
   "execution_count": 2,
   "id": "c6bf4cae",
   "metadata": {},
   "outputs": [
    {
     "name": "stdout",
     "output_type": "stream",
     "text": [
      "C:\\Users\\dental-1\\Documents\\dent_seg\\5_train_yolo_tooth_segmentation\n"
     ]
    }
   ],
   "source": [
    "%cd ../5_train_yolo_tooth_segmentation"
   ]
  },
  {
   "cell_type": "code",
   "execution_count": 3,
   "id": "666309ec",
   "metadata": {},
   "outputs": [
    {
     "name": "stdout",
     "output_type": "stream",
     "text": [
      "C:\\Users\\dental-1\\Documents\\dent_seg\\5_train_yolo_tooth_segmentation\\yolov5\n",
      "Reinitialized existing Git repository in C:/Users/dental-1/Documents/dent_seg/5_train_yolo_tooth_segmentation/yolov5/.git/\n",
      "Updating 7a39803..a4207a2\n",
      "Fast-forward\n",
      " .github/workflows/ci-testing.yml   |  2 +-\n",
      " Dockerfile                         |  3 ++\n",
      " detect.py                          |  3 +-\n",
      " export.py                          |  5 +--\n",
      " models/common.py                   | 20 ++++++++---\n",
      " train.py                           | 23 +++++++------\n",
      " utils/datasets.py                  |  2 +-\n"
     ]
    },
    {
     "name": "stderr",
     "output_type": "stream",
     "text": [
      "From https://github.com/ultralytics/yolov5\n",
      " * branch            HEAD       -> FETCH_HEAD\n"
     ]
    },
    {
     "name": "stdout",
     "output_type": "stream",
     "text": [
      " utils/general.py                   |  4 +--\n",
      " utils/loggers/wandb/README.md      | 33 ++++++++++--------\n",
      " utils/loggers/wandb/wandb_utils.py | 68 +++++++++++++++++++++++++++-----------\n",
      " val.py                             |  7 ++--\n",
      " 11 files changed, 108 insertions(+), 62 deletions(-)\n"
     ]
    }
   ],
   "source": [
    "# clone repo\n",
    "if os.path.exists('C:/Users/dental-1/Documents/dent_seg/5_train_yolo_tooth_segmentation/yolov5/') == False:\n",
    "    !git clone https://github.com/ultralytics/yolov5\n",
    "    %cd yolov5\n",
    "else:\n",
    "    %cd yolov5\n",
    "    !git init\n",
    "    !git pull https://github.com/ultralytics/yolov5"
   ]
  },
  {
   "cell_type": "code",
   "execution_count": 4,
   "id": "77572feb",
   "metadata": {},
   "outputs": [
    {
     "name": "stdout",
     "output_type": "stream",
     "text": [
      "Setup complete. Using torch 1.9.1+cu102 _CudaDeviceProperties(name='Quadro RTX 8000', major=7, minor=5, total_memory=49152MB, multi_processor_count=72)\n"
     ]
    }
   ],
   "source": [
    "import torch\n",
    "print('Setup complete. Using torch %s %s' % (torch.__version__, torch.cuda.get_device_properties(0) if torch.cuda.is_available() else 'CPU'))"
   ]
  },
  {
   "cell_type": "code",
   "execution_count": 33,
   "id": "195dc738",
   "metadata": {},
   "outputs": [],
   "source": [
    "with open('cate5_data_yaml', 'w+') as file:\n",
    "    file.write(\n",
    "        \"\"\"\n",
    "        train: C:/Users/dental-1/Documents/dent_seg/8_evaluation/data/cate5/images/train\n",
    "        val: C:/Users/dental-1/Documents/dent_seg/8_evaluation/data/cate5/images/valid\n",
    "        test: C:/Users/dental-1/Documents/dent_seg/8_evaluation/data/cate5/images/test\n",
    "\n",
    "        nc: 1\n",
    "        names: ['tooth']\n",
    "        \"\"\"\n",
    "    )"
   ]
  },
  {
   "cell_type": "markdown",
   "id": "da467d2a",
   "metadata": {},
   "source": [
    "## Test the model"
   ]
  },
  {
   "cell_type": "code",
   "execution_count": 5,
   "id": "25c62214",
   "metadata": {},
   "outputs": [
    {
     "name": "stderr",
     "output_type": "stream",
     "text": [
      "\u001b[34m\u001b[1mval: \u001b[0mdata=cate5_data_yaml, weights=['../../4_weights/tooth_segmentation_weight.pt'], batch_size=32, imgsz=640, conf_thres=0.4, iou_thres=0.6, task=val, device=, single_cls=False, augment=False, verbose=True, save_txt=True, save_hybrid=False, save_conf=True, save_json=False, project=runs\\val, name=cate5, exist_ok=False, half=False, dnn=False\n",
      "WARNING: confidence threshold 0.4 >> 0.001 will produce invalid mAP values.\n",
      "YOLOv5  v6.0-114-ga4207a2 torch 1.9.1+cu102 CUDA:0 (Quadro RTX 8000, 49152MiB)\n",
      "\n",
      "Fusing layers... \n",
      "Model Summary: 232 layers, 7246518 parameters, 0 gradients\n",
      "\n",
      "\u001b[34m\u001b[1mval: \u001b[0mScanning 'C:\\Users\\dental-1\\Documents\\dent_seg\\8_evaluation\\data\\cate5\\labels\\valid.cache' images and labels... 120 found, 0 missing, 1 empty, 0 corrupted: 100%|##########| 120/120 [00:00<?, ?it/s]\n",
      "\u001b[34m\u001b[1mval: \u001b[0mScanning 'C:\\Users\\dental-1\\Documents\\dent_seg\\8_evaluation\\data\\cate5\\labels\\valid.cache' images and labels... 120 found, 0 missing, 1 empty, 0 corrupted: 100%|##########| 120/120 [00:00<?, ?it/s]\n",
      "\n",
      "               Class     Images     Labels          P          R     mAP@.5 mAP@.5:.95:   0%|          | 0/4 [00:00<?, ?it/s]\n",
      "               Class     Images     Labels          P          R     mAP@.5 mAP@.5:.95:  25%|##5       | 1/4 [00:02<00:08,  2.68s/it]\n",
      "               Class     Images     Labels          P          R     mAP@.5 mAP@.5:.95:  50%|#####     | 2/4 [00:04<00:04,  2.43s/it]\n",
      "               Class     Images     Labels          P          R     mAP@.5 mAP@.5:.95:  75%|#######5  | 3/4 [00:05<00:01,  1.78s/it]\n",
      "               Class     Images     Labels          P          R     mAP@.5 mAP@.5:.95: 100%|##########| 4/4 [00:07<00:00,  1.83s/it]\n",
      "               Class     Images     Labels          P          R     mAP@.5 mAP@.5:.95: 100%|##########| 4/4 [00:07<00:00,  1.96s/it]\n",
      "                 all        120       2325      0.982      0.994      0.987      0.829\n",
      "Speed: 0.3ms pre-process, 4.0ms inference, 10.5ms NMS per image at shape (32, 3, 640, 640)\n",
      "Results saved to \u001b[1mruns\\val\\cate52\u001b[0m\n",
      "119 labels saved to runs\\val\\cate52\\labels\n"
     ]
    }
   ],
   "source": [
    "# run model again test image set\n",
    "!python val.py --verbose --weights ../../4_weights/tooth_segmentation_weight.pt --conf 0.4 --data cate5_data_yaml --name cate5 --save-txt --save-conf"
   ]
  },
  {
   "cell_type": "code",
   "execution_count": null,
   "id": "7af627fb",
   "metadata": {},
   "outputs": [],
   "source": []
  }
 ],
 "metadata": {
  "kernelspec": {
   "display_name": "Python 3 (ipykernel)",
   "language": "python",
   "name": "python3"
  },
  "language_info": {
   "codemirror_mode": {
    "name": "ipython",
    "version": 3
   },
   "file_extension": ".py",
   "mimetype": "text/x-python",
   "name": "python",
   "nbconvert_exporter": "python",
   "pygments_lexer": "ipython3",
   "version": "3.8.11"
  }
 },
 "nbformat": 4,
 "nbformat_minor": 5
}
