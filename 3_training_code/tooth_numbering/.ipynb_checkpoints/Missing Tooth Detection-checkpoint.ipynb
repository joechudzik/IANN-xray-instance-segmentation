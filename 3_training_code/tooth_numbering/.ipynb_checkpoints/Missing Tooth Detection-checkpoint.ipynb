{
 "cells": [
  {
   "cell_type": "markdown",
   "id": "644a47a1",
   "metadata": {},
   "source": [
    "# Set up environment"
   ]
  },
  {
   "cell_type": "code",
   "execution_count": 3,
   "id": "29624103",
   "metadata": {},
   "outputs": [],
   "source": [
    "import warnings\n",
    "warnings.filterwarnings('ignore')"
   ]
  },
  {
   "cell_type": "code",
   "execution_count": 4,
   "id": "a3dbb4d2",
   "metadata": {},
   "outputs": [
    {
     "name": "stdout",
     "output_type": "stream",
     "text": [
      "Setup complete. Using torch 1.9.1+cu102 _CudaDeviceProperties(name='Quadro RTX 8000', major=7, minor=5, total_memory=49152MB, multi_processor_count=72)\n"
     ]
    }
   ],
   "source": [
    "import torch\n",
    "print('Setup complete. Using torch %s %s' % (torch.__version__, torch.cuda.get_device_properties(0) if torch.cuda.is_available() else 'CPU'))"
   ]
  },
  {
   "cell_type": "code",
   "execution_count": 5,
   "id": "aa2372b6",
   "metadata": {},
   "outputs": [],
   "source": [
    "# import relevant libraries\n",
    "import pandas as pd\n",
    "import numpy as np\n",
    "from statistics import mean, stdev\n",
    "import cv2\n",
    "import random\n",
    "import matplotlib.pyplot as plt\n",
    "from PIL import Image\n",
    "import torch\n",
    "import os\n",
    "%matplotlib inline"
   ]
  },
  {
   "cell_type": "code",
   "execution_count": 6,
   "id": "9a8e8a5c",
   "metadata": {},
   "outputs": [
    {
     "name": "stdout",
     "output_type": "stream",
     "text": [
      "C:\\Users\\dental-1\\Documents\\dent_seg\\3_training_code\\missing_teeth_and_tooth_numbering\\yolov5\n",
      "Reinitialized existing Git repository in C:/Users/dental-1/Documents/dent_seg/3_training_code/missing_teeth_and_tooth_numbering/yolov5/.git/\n",
      "Already up to date.\n"
     ]
    },
    {
     "name": "stderr",
     "output_type": "stream",
     "text": [
      "From https://github.com/ultralytics/yolov5\n",
      " * branch            HEAD       -> FETCH_HEAD\n"
     ]
    }
   ],
   "source": [
    "# clone repo\n",
    "if os.path.exists('C:/Users/dental-1/Documents/dent_seg/3_training_code/missing_teeth_and_tooth_numbering/yolov5/') == False:\n",
    "    !git clone https://github.com/ultralytics/yolov5\n",
    "    %cd yolov5\n",
    "else:\n",
    "    %cd yolov5\n",
    "    !git init\n",
    "    !git pull https://github.com/ultralytics/yolov5"
   ]
  },
  {
   "cell_type": "markdown",
   "id": "935bdb85",
   "metadata": {},
   "source": [
    "# Define functions"
   ]
  },
  {
   "cell_type": "code",
   "execution_count": 7,
   "id": "79499be6",
   "metadata": {},
   "outputs": [],
   "source": [
    "def closest(lst, K): \n",
    "    close =  lst[min(range(len(lst)), key = lambda i: abs(lst[i]-K))]\n",
    "    if close == min(lst): \n",
    "        return 'top'\n",
    "    elif close == max(lst): \n",
    "        return 'bottom'\n",
    "    else: return 'There is a problem!'"
   ]
  },
  {
   "cell_type": "code",
   "execution_count": 8,
   "id": "b3e04e3c",
   "metadata": {},
   "outputs": [],
   "source": [
    "# assign teeth to quadrant\n",
    "def tooth_quad(data):\n",
    "    data['quadrant'] = 0\n",
    "    for i in range(data.shape[0]):\n",
    "        if data['x_center'][i] < 0.5:\n",
    "            if data['y_center'][i] < 0.5:\n",
    "                data['quadrant'][i]=1\n",
    "            else: data['quadrant'][i]=4\n",
    "        else:\n",
    "            if data['y_center'][i] < 0.5:\n",
    "                data['quadrant'][i]=2\n",
    "            else: data['quadrant'][i]=3\n",
    "\n",
    "    # calculate x_left and x_right values for bounding boxes\n",
    "    data['x_left'] = data['x_center'] - data['width']/2\n",
    "    data['x_right'] = data['x_center'] + data['width']/2\n",
    "    data['x_values'] = list(zip(data.x_left, data.x_right))\n",
    "    data.drop(['x_left', 'x_right'], axis=1, inplace=True)\n",
    "\n",
    "    # calculate y_left and y_right values for bounding boxes\n",
    "    data['y_left'] = data['y_center'] - data['height']/2\n",
    "    data['y_right'] = data['y_center'] + data['height']/2\n",
    "    data['y_values'] = list(zip(data.y_left, data.y_right))\n",
    "    data.drop(['y_left', 'y_right'], axis=1, inplace=True)\n",
    "\n",
    "    data.sort_values(by=['quadrant', 'x_center'], inplace=True, ignore_index=True)\n",
    "\n",
    "    # reassign quadrant number if more than 9 teeth per quadrant\n",
    "    if (len(data[data['quadrant']==1])<8) & ((len(data[data['quadrant']==2])>8)):\n",
    "        data.iloc[data[data['quadrant']==2].index[0],5] = 1\n",
    "    elif (len(data[data['quadrant']==4])<8) & ((len(data[data['quadrant']==3])>8)):\n",
    "        data.iloc[data[data['quadrant']==3].index[0],5] = 4\n",
    "    elif (len(data[data['quadrant']==1])>8) & ((len(data[data['quadrant']==2])<8)):\n",
    "        data.iloc[data[data['quadrant']==1].index[-1],5] = 2\n",
    "    elif (len(data[data['quadrant']==4])>8) & ((len(data[data['quadrant']==3])<8)):\n",
    "        data.iloc[data[data['quadrant']==4].index[-1],5] = 3\n",
    "\n",
    "    # reassign quadrant number if more than 2 incisors per quadrant    \n",
    "    while ((len(data[(data['quadrant']==1) & (data['tooth_label']==3)])<2) & (len(data[(data['quadrant']==2) & (data['tooth_label']==3)])>2)):\n",
    "        data.iloc[data[data['quadrant']==2].index[0],5] = 1\n",
    "    while ((len(data[(data['quadrant']==1) & (data['tooth_label']==3)])>2) & (len(data[(data['quadrant']==2) & (data['tooth_label']==3)])<2)):\n",
    "        data.iloc[data[data['quadrant']==1].index[-1],5] = 2\n",
    "    while ((len(data[(data['quadrant']==4) & (data['tooth_label']==3)])<2) & (len(data[(data['quadrant']==3) & (data['tooth_label']==3)])>2)):\n",
    "        data.iloc[data[data['quadrant']==3].index[0],5] = 4\n",
    "    while ((len(data[(data['quadrant']==4) & (data['tooth_label']==3)])>2) & (len(data[(data['quadrant']==3) & (data['tooth_label']==3)])<2)):\n",
    "        data.iloc[data[data['quadrant']==4].index[-1],5] = 3\n",
    "\n",
    "    #check against average y value of each quadrant\n",
    "    if (data[data['quadrant']==1].shape[0]>0):\n",
    "        if (data[data['quadrant']==4].shape[0]>0):\n",
    "            y_center_1 = mean(data[data['quadrant']==1]['y_center'])\n",
    "            y_center_4 = mean(data[data['quadrant']==4]['y_center'])\n",
    "            mean_y_center_14 = tuple(list((y_center_1, y_center_4)))\n",
    "    if (data[data['quadrant']==2].shape[0]>0):\n",
    "        if (data[data['quadrant']==3].shape[0]>0):\n",
    "            y_center_2 = mean(data[data['quadrant']==2]['y_center'])\n",
    "            y_center_3 = mean(data[data['quadrant']==3]['y_center'])\n",
    "            mean_y_center_23 = tuple(list((y_center_2, y_center_3)))\n",
    "    \n",
    "    for i in data.index:\n",
    "        if (data[data['quadrant']==1].shape[0]>0) and (data[data['quadrant']==4].shape[0]>0):\n",
    "            if (data.loc[i, 'quadrant']==1) and (closest(mean_y_center_14, data.loc[i, 'y_center'])=='bottom'):\n",
    "                data.loc[i, 'quadrant'] = 4\n",
    "            elif (data.loc[i, 'quadrant']==4) and (closest(mean_y_center_14, data.loc[i, 'y_center'])=='top'):\n",
    "                data.loc[i, 'quadrant'] = 1\n",
    "        if (data[data['quadrant']==2].shape[0]>0) and (data[data['quadrant']==3].shape[0]>0):\n",
    "            if (data.loc[i, 'quadrant']==2) and (closest(mean_y_center_23, data.loc[i, 'y_center'])=='bottom'):\n",
    "                data.loc[i, 'quadrant'] = 3\n",
    "            elif (data.loc[i, 'quadrant']==3) and (closest(mean_y_center_23, data.loc[i, 'y_center'])=='top'):\n",
    "                data.loc[i, 'quadrant'] = 2\n",
    "\n",
    "\n",
    "    data.sort_values(by=['quadrant','x_center'], inplace=True, ignore_index=True)\n",
    "    return(data)"
   ]
  },
  {
   "cell_type": "code",
   "execution_count": 9,
   "id": "249966ce",
   "metadata": {},
   "outputs": [],
   "source": [
    "# get dataframe of missing teeth and append to df\n",
    "def tooth_num(data):\n",
    "    # create df for each quadrant\n",
    "    q1_data = data[data['quadrant']==1]\n",
    "    q1_data.sort_values(by='x_center', ascending=False, inplace=True, ignore_index=True)\n",
    "    q1_data['ISO_tooth_label'] = ''\n",
    "    for i in range(q1_data.shape[0]):\n",
    "        q1_data.iloc[i, q1_data.columns.get_loc('ISO_tooth_label')] = '1'+str(i+1)\n",
    "\n",
    "    q2_data = data[data['quadrant']==2]\n",
    "    q2_data.sort_values(by='x_center', inplace=True, ignore_index=True)\n",
    "    q2_data['ISO_tooth_label'] = ''\n",
    "    for i in range(q2_data.shape[0]):\n",
    "        q2_data.iloc[i, q2_data.columns.get_loc('ISO_tooth_label')] = '2'+str(i+1)\n",
    "\n",
    "    q3_data = data[data['quadrant']==3]\n",
    "    q3_data.sort_values(by='x_center', inplace=True, ignore_index=True)\n",
    "    q3_data['ISO_tooth_label'] = ''\n",
    "    for i in range(q3_data.shape[0]):\n",
    "        q3_data.iloc[i, q3_data.columns.get_loc('ISO_tooth_label')] = '3'+str(i+1)\n",
    "\n",
    "    q4_data = data[data['quadrant']==4]\n",
    "    q4_data.sort_values(by='x_center', ascending=False, inplace=True, ignore_index=True)\n",
    "    q4_data['ISO_tooth_label'] = ''\n",
    "    for i in range(q4_data.shape[0]):\n",
    "        q4_data.iloc[i, q4_data.columns.get_loc('ISO_tooth_label')] = '4'+str(i+1)\n",
    "\n",
    "    data = pd.concat([q1_data, q2_data, q3_data, q4_data], ignore_index=True)\n",
    "    return(data)"
   ]
  },
  {
   "cell_type": "code",
   "execution_count": 10,
   "id": "7cf5a0ba",
   "metadata": {},
   "outputs": [],
   "source": [
    "def find_missing_teeth(data, quadrant_dict):\n",
    "    # add missing teeth column to df\n",
    "    data['missing'] = 0\n",
    "    # loop through and find missing teeth\n",
    "    missing_teeth = []\n",
    "    for quadrant in quadrant_dict.keys():\n",
    "        if len(quadrant_dict[quadrant]) < 8:\n",
    "            for i in range(len(quadrant_dict[quadrant])-1):\n",
    "                tooth_dist = quadrant_dict[quadrant]['x_values'][i+1][0]-quadrant_dict[quadrant]['x_values'][i][1]\n",
    "                if tooth_dist > 0.005: #average_dist:\n",
    "                    x_center = tooth_dist/2 + quadrant_dict[quadrant]['x_values'][i][1]\n",
    "                    y_center = (quadrant_dict[quadrant]['y_center'][i+1]+quadrant_dict[quadrant]['y_center'][i])/2\n",
    "                    w = tooth_dist\n",
    "                    h = (quadrant_dict[quadrant]['height'][i+1]+quadrant_dict[quadrant]['height'][i])/2\n",
    "                    x_val = tuple(list((x_center-w/2, x_center+w/2)))\n",
    "                    y_val = tuple(list((y_center-h/2, y_center+h/2)))\n",
    "                    num_teeth = 4\n",
    "                    missing = 1\n",
    "                    missing_teeth.append((num_teeth, x_center, y_center, w, h, int(quadrant), missing, x_val, y_val))\n",
    "\n",
    "    missing_teeth = pd.DataFrame(missing_teeth, columns=['tooth_label', 'x_center', 'y_center', 'width', 'height', 'quadrant','missing', 'x_values', 'y_values'])\n",
    "    # append missing teeth to label df\n",
    "    data = data.append(missing_teeth)\n",
    "    data.sort_values(by=['quadrant','x_center'], inplace=True, ignore_index=True)\n",
    "    return(data)"
   ]
  },
  {
   "cell_type": "code",
   "execution_count": 11,
   "id": "56dc07cc",
   "metadata": {},
   "outputs": [],
   "source": [
    "## Change tooth label for missing teeth to category if it lies between 2 teeth of the same category for class 3 and 0\n",
    "def check_class_between(index, series):\n",
    "    classes = [0,1,2,3]\n",
    "    new_class = 9\n",
    "    if len(series) >=2:\n",
    "        if series[index-1]==series[index+1]:\n",
    "            new_class = series[index-1]\n",
    "        # # tooth 2\n",
    "        elif (series[index-1]==classes[3]) and (series[index+1]==classes[2]):\n",
    "            new_class = classes[3]\n",
    "        # tooth 3\n",
    "        elif (series[index-1]==classes[3]) and (series[index+1]==classes[1]):\n",
    "            new_class = classes[2]\n",
    "        # tooth 4\n",
    "        elif (series[index-1]==classes[2]) and (series[index+1]==classes[1]):\n",
    "            new_class = classes[1]\n",
    "        # tooth 5\n",
    "        elif (series[index-1]==classes[1]) and (series[index-2]!=classes[1]) and (series[index+1]==classes[0]):\n",
    "            new_class = classes[1]\n",
    "        # tooth 6\n",
    "        elif (series[index-1]==classes[1]) and (series[index-2]==classes[1]):\n",
    "            new_class = classes[0]\n",
    "    return new_class"
   ]
  },
  {
   "cell_type": "code",
   "execution_count": 12,
   "id": "2d6ff4ba",
   "metadata": {},
   "outputs": [],
   "source": [
    "## Create dictionary of dataframes for each quadrant\n",
    "def dict_quad(data):\n",
    "    q1_data = data[data['quadrant']==1]\n",
    "    q1_data.sort_values(by='x_center', inplace=True)\n",
    "    q1_data.reset_index(drop=True, inplace=True)\n",
    "\n",
    "    q2_data = data[data['quadrant']==2]\n",
    "    q2_data.reset_index(drop=True, inplace=True)\n",
    "\n",
    "    q3_data = data[data['quadrant']==3]\n",
    "    q3_data.reset_index(drop=True, inplace=True)\n",
    "\n",
    "    q4_data = data[data['quadrant']==4]\n",
    "    q4_data.sort_values(by='x_center', inplace=True)\n",
    "    q4_data.reset_index(drop=True, inplace=True)\n",
    "\n",
    "    quadrant_dict = {'1': q1_data, '2': q2_data, '3': q3_data, '4': q4_data}\n",
    "    return(quadrant_dict)"
   ]
  },
  {
   "cell_type": "code",
   "execution_count": 13,
   "id": "a9840be7",
   "metadata": {},
   "outputs": [],
   "source": [
    "## Visualize image with missing teeth and ISO tooth numbering\n",
    "def visualize_toothnum(img, data):\n",
    "#     dummy = img.copy()\n",
    "#     for i in range(data.shape[0]):\n",
    "#         if data['missing'][i] == 0:\n",
    "#             color = (255, 0, 0)\n",
    "#         else: color = (0, 255, 255)\n",
    "#         start = (int(data['x_values'][i][0]*img.shape[1]), int(data['y_values'][i][0]*img.shape[0]))\n",
    "#         end = (int(data['x_values'][i][1]*img.shape[1]), int(data['y_values'][i][1]*img.shape[0]))\n",
    "#         if ((data['quadrant'][i] == 1) | (data['quadrant'][i] == 2)):\n",
    "#             # label = (start[0], start[1]-25)\n",
    "#             label = (round(start[0]+((end[0]-start[0])/2))-15, start[1]-25)\n",
    "#         # else: label = (start[0], end[1]+45)\n",
    "#         else: label = (round(start[0]+((end[0]-start[0])/2))-20, end[1]+45)\n",
    "#         # cv2.rectangle(dummy, start, end, color, 3)\n",
    "#         cv2.putText(dummy, text= ('%s') %(data['tooth_label'][i]), \n",
    "#                         org=label,fontFace= cv2.FONT_HERSHEY_SIMPLEX, fontScale=1, color=color,\n",
    "#                         thickness=4, lineType=cv2.LINE_AA)\n",
    "\n",
    "#     plt.figure(figsize=(14,7))\n",
    "#     plt.imshow(dummy)\n",
    "    dummy = img.copy()\n",
    "    for i in range(data.shape[0]):\n",
    "        if data['missing'][i] == 0:\n",
    "            color = (255, 0, 0)\n",
    "        else: color = (0, 255, 255)\n",
    "        start = (int(data['x_values'][i][0]*img.shape[1]), int(data['y_values'][i][0]*img.shape[0]))\n",
    "        end = (int(data['x_values'][i][1]*img.shape[1]), int(data['y_values'][i][1]*img.shape[0]))\n",
    "        if ((data['quadrant'][i] == 1) | (data['quadrant'][i] == 2)):\n",
    "            # label = (start[0], start[1]-25)\n",
    "            label = (round(start[0]+((end[0]-start[0])/2))-15, start[1]-25)\n",
    "        # else: label = (start[0], end[1]+45)\n",
    "        else: label = (round(start[0]+((end[0]-start[0])/2))-20, end[1]+45)\n",
    "        # cv2.rectangle(dummy, start, end, color, 3)\n",
    "        cv2.putText(dummy, text= ('%s') %(data['ISO_tooth_label'][i]), \n",
    "                        org=label,fontFace= cv2.FONT_HERSHEY_SIMPLEX, fontScale=1, color=color,\n",
    "                        thickness=4, lineType=cv2.LINE_AA)\n",
    "\n",
    "    plt.figure(figsize=(14,7))\n",
    "    plt.imshow(dummy)\n",
    "#     plt.savefig(file_path+file_name)\n",
    "    return()"
   ]
  },
  {
   "cell_type": "code",
   "execution_count": 14,
   "id": "30802ceb",
   "metadata": {},
   "outputs": [],
   "source": [
    "## Verify position of canines/first molar or change tooth number if mismatched:\n",
    "# tooth_label - list of integers\n",
    "# ISO_tooth_labels - list of integers\n",
    "# quadrant - '1', '2', '3' or '4'\n",
    "def check_toothtype_position(tooth_label, ISO_tooth_label, quadrant):\n",
    "    flag_pm = 0\n",
    "    flag_m = 0\n",
    "    for i in range(len(tooth_label)):\n",
    "        \n",
    "        # check canine position\n",
    "        if ((tooth_label[i] == 2) & (ISO_tooth_label[i] != quadrant*10+3)):\n",
    "            ISO_tooth_label.insert(i,quadrant*10+3)\n",
    "            if ISO_tooth_label[i]>=ISO_tooth_label[i+1]:\n",
    "                n = int(ISO_tooth_label[i])-int(ISO_tooth_label[i+1])+1\n",
    "                for j in range(i+1,len(tooth_label)):\n",
    "                    ISO_tooth_label[j] += n\n",
    "        \n",
    "        # check premolar1 position\n",
    "        elif  (tooth_label[i] == 1):\n",
    "            if (ISO_tooth_label[i] != quadrant*10+4): \n",
    "                if flag_pm==0:\n",
    "                    ISO_tooth_label.insert(i,quadrant*10+4)\n",
    "                    flag_pm = flag_pm+1\n",
    "                    if ISO_tooth_label[i]>=ISO_tooth_label[i+1]:\n",
    "                        n = int(ISO_tooth_label[i])-int(ISO_tooth_label[i+1])+1\n",
    "                        for j in range(i+1,len(tooth_label)):\n",
    "                            ISO_tooth_label[j] += n\n",
    "            else: flag_pm=1\n",
    "                \n",
    "    \n",
    "        # check molar1 position\n",
    "        elif  (tooth_label[i] == 0):\n",
    "            if (ISO_tooth_label[i] != quadrant*10+6):\n",
    "                if flag_m==0:\n",
    "                    ISO_tooth_label.insert(i,quadrant*10+6)\n",
    "                    flag_m = flag_m+1\n",
    "                    if ISO_tooth_label[i]>=ISO_tooth_label[i+1]:\n",
    "                        n = int(ISO_tooth_label[i])-int(ISO_tooth_label[i+1])+1\n",
    "                        for j in range(i+1,len(tooth_label)):\n",
    "                            ISO_tooth_label[j] += n\n",
    "            else: flag_m=1\n",
    "  \n",
    "    return ISO_tooth_label[:len(tooth_label)]"
   ]
  },
  {
   "cell_type": "markdown",
   "id": "f3dde8dc",
   "metadata": {},
   "source": [
    "# Segment teeth"
   ]
  },
  {
   "cell_type": "markdown",
   "id": "d50703ca",
   "metadata": {},
   "source": [
    "Make sure to change desired images in `--source` and file name in `--name`"
   ]
  },
  {
   "cell_type": "code",
   "execution_count": 16,
   "id": "69c6b2da",
   "metadata": {},
   "outputs": [
    {
     "name": "stderr",
     "output_type": "stream",
     "text": [
      "\u001b[34m\u001b[1mdetect: \u001b[0mweights=['../../../4_weights/tooth_classification_weight.pt'], source=../../../2_dental_images/raw_images/cate8-00074.jpg, imgsz=[640, 640], conf_thres=0.4, iou_thres=0.45, max_det=1000, device=, view_img=False, save_txt=True, save_conf=True, save_crop=False, nosave=False, classes=None, agnostic_nms=True, augment=False, visualize=False, update=False, project=runs\\detect, name=cate8-00074, exist_ok=False, line_thickness=3, hide_labels=False, hide_conf=False, half=False, dnn=False\n",
      "YOLOv5  v6.0-103-g7a39803 torch 1.9.1+cu102 CUDA:0 (Quadro RTX 8000, 49152MiB)\n",
      "\n",
      "Fusing layers... \n",
      "Model Summary: 232 layers, 7254609 parameters, 0 gradients\n",
      "image 1/1 C:\\Users\\dental-1\\Documents\\dent_seg\\2_dental_images\\raw_images\\cate8-00074.jpg: 384x640 5 molars, 4 premolars, 4 canines, 8 incisors, Done. (0.000s)\n",
      "Speed: 0.0ms pre-process, 0.0ms inference, 15.6ms NMS per image at shape (1, 3, 640, 640)\n",
      "Results saved to \u001b[1mruns\\detect\\cate8-00074\u001b[0m\n",
      "1 labels saved to runs\\detect\\cate8-00074\\labels\n"
     ]
    }
   ],
   "source": [
    "# run model against specific image\n",
    "!python detect.py --agnostic --weights ../../../4_weights/tooth_classification_weight.pt --conf 0.4 --source ../../../2_dental_images/raw_images/cate8-00074.jpg --name cate8-00074 --save-txt --save-conf"
   ]
  },
  {
   "cell_type": "code",
   "execution_count": 15,
   "id": "37b41aec",
   "metadata": {},
   "outputs": [],
   "source": [
    "# define label/image path\n",
    "label_path = 'runs/detect/cate8-00075/labels/cate8-00075.txt'\n",
    "img_path = 'C:/Users/dental-1/Documents/dent_seg/2_dental_images/raw_images/cate8-00075.jpg'"
   ]
  },
  {
   "cell_type": "code",
   "execution_count": 16,
   "id": "f778f33a",
   "metadata": {},
   "outputs": [
    {
     "data": {
      "text/html": [
       "<div>\n",
       "<style scoped>\n",
       "    .dataframe tbody tr th:only-of-type {\n",
       "        vertical-align: middle;\n",
       "    }\n",
       "\n",
       "    .dataframe tbody tr th {\n",
       "        vertical-align: top;\n",
       "    }\n",
       "\n",
       "    .dataframe thead th {\n",
       "        text-align: right;\n",
       "    }\n",
       "</style>\n",
       "<table border=\"1\" class=\"dataframe\">\n",
       "  <thead>\n",
       "    <tr style=\"text-align: right;\">\n",
       "      <th></th>\n",
       "      <th>tooth_label</th>\n",
       "      <th>x_center</th>\n",
       "      <th>y_center</th>\n",
       "      <th>width</th>\n",
       "      <th>height</th>\n",
       "    </tr>\n",
       "  </thead>\n",
       "  <tbody>\n",
       "    <tr>\n",
       "      <th>0</th>\n",
       "      <td>2</td>\n",
       "      <td>0.589151</td>\n",
       "      <td>0.630878</td>\n",
       "      <td>0.042190</td>\n",
       "      <td>0.250222</td>\n",
       "    </tr>\n",
       "    <tr>\n",
       "      <th>1</th>\n",
       "      <td>3</td>\n",
       "      <td>0.553993</td>\n",
       "      <td>0.618456</td>\n",
       "      <td>0.035158</td>\n",
       "      <td>0.193434</td>\n",
       "    </tr>\n",
       "    <tr>\n",
       "      <th>2</th>\n",
       "      <td>3</td>\n",
       "      <td>0.468106</td>\n",
       "      <td>0.616238</td>\n",
       "      <td>0.036163</td>\n",
       "      <td>0.188997</td>\n",
       "    </tr>\n",
       "    <tr>\n",
       "      <th>3</th>\n",
       "      <td>3</td>\n",
       "      <td>0.526871</td>\n",
       "      <td>0.613576</td>\n",
       "      <td>0.036163</td>\n",
       "      <td>0.187223</td>\n",
       "    </tr>\n",
       "    <tr>\n",
       "      <th>4</th>\n",
       "      <td>2</td>\n",
       "      <td>0.435962</td>\n",
       "      <td>0.630878</td>\n",
       "      <td>0.054244</td>\n",
       "      <td>0.220053</td>\n",
       "    </tr>\n",
       "  </tbody>\n",
       "</table>\n",
       "</div>"
      ],
      "text/plain": [
       "   tooth_label  x_center  y_center     width    height\n",
       "0            2  0.589151  0.630878  0.042190  0.250222\n",
       "1            3  0.553993  0.618456  0.035158  0.193434\n",
       "2            3  0.468106  0.616238  0.036163  0.188997\n",
       "3            3  0.526871  0.613576  0.036163  0.187223\n",
       "4            2  0.435962  0.630878  0.054244  0.220053"
      ]
     },
     "execution_count": 16,
     "metadata": {},
     "output_type": "execute_result"
    }
   ],
   "source": [
    "# read in bounding boxes\n",
    "data = pd.read_csv(label_path, header=None, sep=' ')\n",
    "data.rename(columns={0: 'tooth_label', 1: 'x_center', 2: 'y_center', 3: 'width', 4: 'height', 5: 'confidence'}, inplace=True)\n",
    "data.drop(columns = ['confidence'], inplace=True)\n",
    "\n",
    "# read in image\n",
    "img = cv2.imread(img_path)\n",
    "\n",
    "data.head()"
   ]
  },
  {
   "cell_type": "code",
   "execution_count": 17,
   "id": "8e8835df",
   "metadata": {},
   "outputs": [
    {
     "data": {
      "text/html": [
       "<div>\n",
       "<style scoped>\n",
       "    .dataframe tbody tr th:only-of-type {\n",
       "        vertical-align: middle;\n",
       "    }\n",
       "\n",
       "    .dataframe tbody tr th {\n",
       "        vertical-align: top;\n",
       "    }\n",
       "\n",
       "    .dataframe thead th {\n",
       "        text-align: right;\n",
       "    }\n",
       "</style>\n",
       "<table border=\"1\" class=\"dataframe\">\n",
       "  <thead>\n",
       "    <tr style=\"text-align: right;\">\n",
       "      <th></th>\n",
       "      <th>tooth_label</th>\n",
       "      <th>x_center</th>\n",
       "      <th>y_center</th>\n",
       "      <th>width</th>\n",
       "      <th>height</th>\n",
       "      <th>xmin</th>\n",
       "      <th>xmax</th>\n",
       "      <th>ymin</th>\n",
       "      <th>ymax</th>\n",
       "    </tr>\n",
       "  </thead>\n",
       "  <tbody>\n",
       "    <tr>\n",
       "      <th>0</th>\n",
       "      <td>2</td>\n",
       "      <td>0.589151</td>\n",
       "      <td>0.630878</td>\n",
       "      <td>0.042190</td>\n",
       "      <td>0.250222</td>\n",
       "      <td>640.199168</td>\n",
       "      <td>687.747186</td>\n",
       "      <td>1006.982097</td>\n",
       "      <td>1505.174099</td>\n",
       "    </tr>\n",
       "    <tr>\n",
       "      <th>1</th>\n",
       "      <td>3</td>\n",
       "      <td>0.553993</td>\n",
       "      <td>0.618456</td>\n",
       "      <td>0.035158</td>\n",
       "      <td>0.193434</td>\n",
       "      <td>604.538465</td>\n",
       "      <td>644.161757</td>\n",
       "      <td>1038.782349</td>\n",
       "      <td>1423.909443</td>\n",
       "    </tr>\n",
       "    <tr>\n",
       "      <th>2</th>\n",
       "      <td>3</td>\n",
       "      <td>0.468106</td>\n",
       "      <td>0.616238</td>\n",
       "      <td>0.036163</td>\n",
       "      <td>0.188997</td>\n",
       "      <td>507.177781</td>\n",
       "      <td>547.933143</td>\n",
       "      <td>1038.783344</td>\n",
       "      <td>1415.076372</td>\n",
       "    </tr>\n",
       "    <tr>\n",
       "      <th>3</th>\n",
       "      <td>3</td>\n",
       "      <td>0.526871</td>\n",
       "      <td>0.613576</td>\n",
       "      <td>0.036163</td>\n",
       "      <td>0.187223</td>\n",
       "      <td>573.405936</td>\n",
       "      <td>614.161298</td>\n",
       "      <td>1035.249320</td>\n",
       "      <td>1408.010312</td>\n",
       "    </tr>\n",
       "    <tr>\n",
       "      <th>4</th>\n",
       "      <td>2</td>\n",
       "      <td>0.435962</td>\n",
       "      <td>0.630878</td>\n",
       "      <td>0.054244</td>\n",
       "      <td>0.220053</td>\n",
       "      <td>460.762624</td>\n",
       "      <td>521.895724</td>\n",
       "      <td>1037.015337</td>\n",
       "      <td>1475.140860</td>\n",
       "    </tr>\n",
       "  </tbody>\n",
       "</table>\n",
       "</div>"
      ],
      "text/plain": [
       "   tooth_label  x_center  y_center     width    height        xmin  \\\n",
       "0            2  0.589151  0.630878  0.042190  0.250222  640.199168   \n",
       "1            3  0.553993  0.618456  0.035158  0.193434  604.538465   \n",
       "2            3  0.468106  0.616238  0.036163  0.188997  507.177781   \n",
       "3            3  0.526871  0.613576  0.036163  0.187223  573.405936   \n",
       "4            2  0.435962  0.630878  0.054244  0.220053  460.762624   \n",
       "\n",
       "         xmax         ymin         ymax  \n",
       "0  687.747186  1006.982097  1505.174099  \n",
       "1  644.161757  1038.782349  1423.909443  \n",
       "2  547.933143  1038.783344  1415.076372  \n",
       "3  614.161298  1035.249320  1408.010312  \n",
       "4  521.895724  1037.015337  1475.140860  "
      ]
     },
     "execution_count": 17,
     "metadata": {},
     "output_type": "execute_result"
    }
   ],
   "source": [
    "# calculate x and y bounding box edges\n",
    "data['xmin'] = data['x_center'] - data['width']/2\n",
    "data['xmax'] = data['x_center'] + data['width']/2\n",
    "data['ymin'] = data['y_center'] - data['height']/2\n",
    "data['ymax'] = data['y_center'] + data['height']/2\n",
    "\n",
    "# convert to pixels\n",
    "data['xmin'] = data['xmin']*img.shape[0]\n",
    "data['xmax'] = data['xmax']*img.shape[0]\n",
    "data['ymin'] = data['ymin']*img.shape[1]\n",
    "data['ymax'] = data['ymax']*img.shape[1]\n",
    "\n",
    "data.head()"
   ]
  },
  {
   "cell_type": "markdown",
   "id": "3325396d",
   "metadata": {},
   "source": [
    "# Find missing teeth"
   ]
  },
  {
   "cell_type": "code",
   "execution_count": 18,
   "id": "187b7876",
   "metadata": {},
   "outputs": [],
   "source": [
    "data = tooth_quad(data)"
   ]
  },
  {
   "cell_type": "code",
   "execution_count": 19,
   "id": "f1616157",
   "metadata": {},
   "outputs": [],
   "source": [
    "quadrant_dict = dict_quad(data)"
   ]
  },
  {
   "cell_type": "code",
   "execution_count": 20,
   "id": "b2ec6fff",
   "metadata": {},
   "outputs": [],
   "source": [
    "data = find_missing_teeth(data, quadrant_dict)"
   ]
  },
  {
   "cell_type": "code",
   "execution_count": 21,
   "id": "a680415c",
   "metadata": {},
   "outputs": [],
   "source": [
    "data = tooth_num(data)"
   ]
  },
  {
   "cell_type": "code",
   "execution_count": 22,
   "id": "74ffbe5f",
   "metadata": {},
   "outputs": [],
   "source": [
    "# assigning class to missing tooth if between 2 teeth:\n",
    "for i in range(len(data.tooth_label)):\n",
    "    if data.tooth_label[i]==4:\n",
    "        data.tooth_label[i] = check_class_between(i, data.tooth_label)"
   ]
  },
  {
   "cell_type": "code",
   "execution_count": 23,
   "id": "05d0530b",
   "metadata": {},
   "outputs": [],
   "source": [
    "data = tooth_quad(data)"
   ]
  },
  {
   "cell_type": "code",
   "execution_count": 24,
   "id": "a06250d2",
   "metadata": {},
   "outputs": [],
   "source": [
    "data = tooth_num(data)"
   ]
  },
  {
   "cell_type": "code",
   "execution_count": 25,
   "id": "a22aa0b8",
   "metadata": {},
   "outputs": [],
   "source": [
    "quadrant_dict = dict_quad(data)"
   ]
  },
  {
   "cell_type": "code",
   "execution_count": 26,
   "id": "5cacc044",
   "metadata": {},
   "outputs": [],
   "source": [
    "for quadrant in quadrant_dict.keys():\n",
    "        quadrant_dict[quadrant].sort_values(by=['ISO_tooth_label'], inplace=True, ignore_index=True)\n",
    "        premol = quadrant_dict[quadrant].index[quadrant_dict[quadrant]['tooth_label'] == 1].tolist()\n",
    "        can = quadrant_dict[quadrant].index[quadrant_dict[quadrant]['tooth_label'] == 2].tolist()\n",
    "        if len(premol)==3:\n",
    "            if len(can)==1:\n",
    "                quadrant_dict[quadrant]['tooth_label'][premol[2]]=0\n",
    "                quadrant_dict[quadrant]['ISO_tooth_label'][premol[2]]=int(quadrant)*10+6\n",
    "            else:\n",
    "                quadrant_dict[quadrant]['tooth_label'][premol[0]]=2\n",
    "                quadrant_dict[quadrant]['ISO_tooth_label'][premol[0]]=int(quadrant)*10+3\n",
    "        tooth_label = list(quadrant_dict[quadrant]['tooth_label'].astype('int64'))\n",
    "        ISO_tooth_label = list(quadrant_dict[quadrant]['ISO_tooth_label'].astype('int64'))\n",
    "        if len(tooth_label) != 8:\n",
    "            quadrant_dict[quadrant]['ISO_tooth_label'] = check_toothtype_position(tooth_label, ISO_tooth_label, int(quadrant))"
   ]
  },
  {
   "cell_type": "code",
   "execution_count": 27,
   "id": "44aebab9",
   "metadata": {},
   "outputs": [],
   "source": [
    "data = pd.concat([quadrant_dict['1'], quadrant_dict['2'], quadrant_dict['3'], quadrant_dict['4']], ignore_index=True)\n",
    "data.ISO_tooth_label = data.ISO_tooth_label.astype(int)\n",
    "data.sort_values(by='ISO_tooth_label', ascending=True, inplace=True, ignore_index=True)"
   ]
  },
  {
   "cell_type": "code",
   "execution_count": null,
   "id": "8cd19c8a",
   "metadata": {},
   "outputs": [],
   "source": [
    "visualize_toothnum(img, data)"
   ]
  },
  {
   "cell_type": "code",
   "execution_count": null,
   "id": "770f24d8",
   "metadata": {},
   "outputs": [],
   "source": []
  }
 ],
 "metadata": {
  "kernelspec": {
   "display_name": "Python 3",
   "language": "python",
   "name": "python3"
  },
  "language_info": {
   "codemirror_mode": {
    "name": "ipython",
    "version": 3
   },
   "file_extension": ".py",
   "mimetype": "text/x-python",
   "name": "python",
   "nbconvert_exporter": "python",
   "pygments_lexer": "ipython3",
   "version": "3.8.10"
  }
 },
 "nbformat": 4,
 "nbformat_minor": 5
}
