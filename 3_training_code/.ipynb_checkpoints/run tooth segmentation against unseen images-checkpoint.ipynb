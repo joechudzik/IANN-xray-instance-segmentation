{
 "cells": [
  {
   "cell_type": "markdown",
   "id": "47beff5d",
   "metadata": {},
   "source": [
    "## Set up notebook"
   ]
  },
  {
   "cell_type": "code",
   "execution_count": 1,
   "id": "5dc18cc7",
   "metadata": {},
   "outputs": [],
   "source": [
    "# import relevant libraries\n",
    "from IPython.display import Image\n",
    "import pandas as pd\n",
    "import random\n",
    "import os\n",
    "import glob\n",
    "import shutil\n",
    "from scipy import ndimage\n",
    "import matplotlib.pyplot as plt\n",
    "import imageio\n",
    "import json\n",
    "import numpy as np\n",
    "import cv2"
   ]
  },
  {
   "cell_type": "code",
   "execution_count": 2,
   "id": "1c70b495",
   "metadata": {},
   "outputs": [
    {
     "name": "stdout",
     "output_type": "stream",
     "text": [
      "C:\\Users\\dental-1\\Documents\\dent_seg\\5_train_yolo_tooth_segmentation\n"
     ]
    }
   ],
   "source": [
    "%cd ../5_train_yolo_tooth_segmentation"
   ]
  },
  {
   "cell_type": "code",
   "execution_count": null,
   "id": "cbe9a835",
   "metadata": {},
   "outputs": [],
   "source": [
    "# clone repo\n",
    "if os.path.exists('C:/Users/dental-1/Documents/dent_seg/5_train_yolo_tooth_segmentation/yolov5/') == False:\n",
    "    !git clone https://github.com/ultralytics/yolov5\n",
    "    %cd yolov5\n",
    "else:\n",
    "    %cd yolov5\n",
    "    !git init\n",
    "    !git pull https://github.com/ultralytics/yolov5"
   ]
  },
  {
   "cell_type": "code",
   "execution_count": null,
   "id": "3a5fb1bd",
   "metadata": {},
   "outputs": [],
   "source": [
    "import torch\n",
    "print('Setup complete. Using torch %s %s' % (torch.__version__, torch.cuda.get_device_properties(0) if torch.cuda.is_available() else 'CPU'))"
   ]
  },
  {
   "cell_type": "markdown",
   "id": "effbb8e5",
   "metadata": {},
   "source": [
    "## Run model against images\n",
    "\n",
    "Change directory path after --source to choose images to run it on\n",
    "Update folder name after --name to update folder name it's saved as\n",
    "\n",
    "Labels will be saved in 5_train_yolo_tooth_segmentation/yolov5/runs/detect/folder_name"
   ]
  },
  {
   "cell_type": "code",
   "execution_count": null,
   "id": "995c363e",
   "metadata": {},
   "outputs": [],
   "source": [
    "# run model against images in unseen image folder\n",
    "!python detect.py --weights runs/train/teeth_detect/weights/best.pt --img 416 --conf 0.4 --source ../unseen_images/ --name test --save-txt --save-conf"
   ]
  },
  {
   "cell_type": "code",
   "execution_count": null,
   "id": "2f0e3f18",
   "metadata": {},
   "outputs": [],
   "source": [
    "# run model against specific image\n",
    "!python detect.py --weights runs/train/teeth_detect/weights/best.pt --conf 0.4 --source ../../2_dental_images/raw_images/cate10-00050.jpg --name test --save-txt --save-conf"
   ]
  },
  {
   "cell_type": "code",
   "execution_count": null,
   "id": "e72dddfe",
   "metadata": {},
   "outputs": [],
   "source": []
  },
  {
   "cell_type": "code",
   "execution_count": null,
   "id": "126a4df5",
   "metadata": {},
   "outputs": [],
   "source": []
  },
  {
   "cell_type": "code",
   "execution_count": null,
   "id": "9cf75890",
   "metadata": {},
   "outputs": [],
   "source": []
  }
 ],
 "metadata": {
  "kernelspec": {
   "display_name": "Python 3 (ipykernel)",
   "language": "python",
   "name": "python3"
  },
  "language_info": {
   "codemirror_mode": {
    "name": "ipython",
    "version": 3
   },
   "file_extension": ".py",
   "mimetype": "text/x-python",
   "name": "python",
   "nbconvert_exporter": "python",
   "pygments_lexer": "ipython3",
   "version": "3.8.11"
  }
 },
 "nbformat": 4,
 "nbformat_minor": 5
}
